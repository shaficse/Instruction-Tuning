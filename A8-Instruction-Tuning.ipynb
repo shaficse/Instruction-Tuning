{
 "cells": [
  {
   "cell_type": "markdown",
   "metadata": {},
   "source": [
    "# Import Libraries"
   ]
  },
  {
   "cell_type": "code",
   "execution_count": 4,
   "metadata": {},
   "outputs": [],
   "source": [
    "import warnings\n",
    "import transformers\n",
    "from transformers import AutoModelForCausalLM, AutoTokenizer, TrainingArguments\n",
    "from datasets import load_dataset\n",
    "import torch\n",
    "from trl import SFTTrainer, DataCollatorForCompletionOnlyLM\n",
    "from nltk.translate.bleu_score import sentence_bleu\n",
    "import numpy as np\n",
    "import matplotlib.pyplot as plt\n",
    "# Filter out all warnings\n",
    "warnings.filterwarnings(\"ignore\")\n"
   ]
  },
  {
   "cell_type": "markdown",
   "metadata": {},
   "source": [
    "- This section loads necessary libraries and sets the computation device to GPU if available."
   ]
  },
  {
   "cell_type": "code",
   "execution_count": null,
   "metadata": {},
   "outputs": [],
   "source": [
    "# Ensure CUDA (GPU support) is available if possible\n",
    "device = torch.device('cuda' if torch.cuda.is_available() else 'cpu')"
   ]
  },
  {
   "cell_type": "markdown",
   "metadata": {},
   "source": [
    "# Task 1. Alpaca Dataset "
   ]
  },
  {
   "cell_type": "markdown",
   "metadata": {},
   "source": [
    "## Load Dataset"
   ]
  },
  {
   "cell_type": "markdown",
   "metadata": {},
   "source": [
    "Loading the training and evaluation datasets, with \n",
    " - the training dataset limited to the first 100 examples and \n",
    " - the evaluation dataset to the first 25 examples."
   ]
  },
  {
   "cell_type": "code",
   "execution_count": 7,
   "metadata": {},
   "outputs": [],
   "source": [
    "# Load the datasets\n",
    "train_ds = load_dataset('json', data_files='./data/alpaca_data.json', split='train').select(range(100))\n",
    "eval_ds = load_dataset(\"tatsu-lab/alpaca_eval\", split='eval', trust_remote_code=True).select(range(25))\n"
   ]
  },
  {
   "cell_type": "code",
   "execution_count": 8,
   "metadata": {},
   "outputs": [
    {
     "data": {
      "text/plain": [
       "Dataset({\n",
       "    features: ['input', 'instruction', 'output'],\n",
       "    num_rows: 100\n",
       "})"
      ]
     },
     "execution_count": 8,
     "metadata": {},
     "output_type": "execute_result"
    }
   ],
   "source": [
    "train_ds"
   ]
  },
  {
   "cell_type": "code",
   "execution_count": 9,
   "metadata": {},
   "outputs": [
    {
     "data": {
      "text/plain": [
       "Dataset({\n",
       "    features: ['instruction', 'output', 'generator', 'dataset'],\n",
       "    num_rows: 25\n",
       "})"
      ]
     },
     "execution_count": 9,
     "metadata": {},
     "output_type": "execute_result"
    }
   ],
   "source": [
    "eval_ds"
   ]
  },
  {
   "cell_type": "code",
   "execution_count": 10,
   "metadata": {},
   "outputs": [],
   "source": [
    "eval_ds = eval_ds.remove_columns(['generator','dataset']) #deleting unncessary columns"
   ]
  },
  {
   "cell_type": "code",
   "execution_count": 11,
   "metadata": {},
   "outputs": [
    {
     "data": {
      "text/plain": [
       "Dataset({\n",
       "    features: ['instruction', 'output'],\n",
       "    num_rows: 25\n",
       "})"
      ]
     },
     "execution_count": 11,
     "metadata": {},
     "output_type": "execute_result"
    }
   ],
   "source": [
    "eval_ds"
   ]
  },
  {
   "cell_type": "markdown",
   "metadata": {},
   "source": [
    "## Tokenization"
   ]
  },
  {
   "cell_type": "markdown",
   "metadata": {},
   "source": [
    "- Here, the script loads the DistilGPT-2 model and tokenizer. \n",
    "- It sets the padding token to the end-of-sequence token and defines the maximum sequence length based on the model's limitations."
   ]
  },
  {
   "cell_type": "code",
   "execution_count": 12,
   "metadata": {},
   "outputs": [
    {
     "data": {
      "text/plain": [
       "1024"
      ]
     },
     "execution_count": 12,
     "metadata": {},
     "output_type": "execute_result"
    }
   ],
   "source": [
    "# Step 2: Load the model & Tokenizer\n",
    "from transformers import AutoModelForCausalLM, AutoTokenizer\n",
    "model_name_or_path = \"distilgpt2\"\n",
    "model = AutoModelForCausalLM.from_pretrained(\n",
    "    model_name_or_path, \n",
    "    device_map = 'auto'\n",
    ")\n",
    "tokenizer = AutoTokenizer.from_pretrained(\n",
    "    model_name_or_path)\n",
    "tokenizer.pad_token = tokenizer.eos_token\n",
    "# Make sure to pass a correct value for max_seq_length as the default value will be set to min(tokenizer.model_max_length, 1024).\n",
    "max_seq_length = min(tokenizer.model_max_length, 1024)\n",
    "max_seq_length"
   ]
  },
  {
   "cell_type": "markdown",
   "metadata": {},
   "source": [
    "## Data Formatting"
   ]
  },
  {
   "cell_type": "markdown",
   "metadata": {},
   "source": [
    "- This function is designed to format the dataset examples into a specific prompt format required for training the model. \n",
    "- The format includes a question, optional input, and the answer section."
   ]
  },
  {
   "cell_type": "code",
   "execution_count": 14,
   "metadata": {},
   "outputs": [
    {
     "name": "stdout",
     "output_type": "stream",
     "text": [
      "### Question: Give three tips for staying healthy.\n",
      "### Answer: 1.Eat a balanced diet and make sure to include plenty of fruits and vegetables. \n",
      "2. Exercise regularly to keep your body active and strong. \n",
      "3. Get enough sleep and maintain a consistent sleep schedule.\n",
      "### Question: What are the three primary colors?\n",
      "### Answer: The three primary colors are red, blue, and yellow.\n",
      "### Question: Describe the structure of an atom.\n",
      "### Answer: An atom is made up of a nucleus, which contains protons and neutrons, surrounded by electrons that travel in orbits around the nucleus. The protons and neutrons have a positive charge, while the electrons have a negative charge, resulting in an overall neutral atom. The number of each particle determines the atomic number and the type of atom.\n",
      "### Question: How can we reduce air pollution?\n",
      "### Answer: There are a number of ways to reduce air pollution, such as shifting to renewable energy sources, encouraging the use of public transportation, prohibiting the burning of fossil fuels, implementing policies to reduce emissions from industrial sources, and implementing vehicle emissions standards. Additionally, individuals can do their part to reduce air pollution by reducing car use, avoiding burning materials such as wood, and changing to energy efficient appliances.\n",
      "### Question: Describe a time when you had to make a difficult decision.\n",
      "### Answer: I had to make a difficult decision when I was working as a project manager at a construction company. I was in charge of a project that needed to be completed by a certain date in order to meet the client’s expectations. However, due to unexpected delays, we were not able to meet the deadline and so I had to make a difficult decision. I decided to extend the deadline, but I had to stretch the team’s resources even further and increase the budget. Although it was a risky decision, I ultimately decided to go ahead with it to ensure that the project was completed on time and that the client’s expectations were met. The project was eventually successfully completed and this was seen as a testament to my leadership and decision-making abilities.\n",
      "### Question: Identify the odd one out.\n",
      "### Input: Twitter, Instagram, Telegram\n",
      "### Answer: Telegram\n",
      "### Question: Explain why the following fraction is equivalent to 1/4\n",
      "### Input: 4/16\n",
      "### Answer: The fraction 4/16 is equivalent to 1/4 because both numerators and denominators are divisible by 4. Dividing both the top and bottom numbers by 4 yields the fraction 1/4.\n",
      "### Question: Write a short story in third person narration about a protagonist who has to make an important career decision.\n",
      "### Answer: John was at a crossroads in his life. He had just graduated college and was now facing the big decision of what career to pursue. After much deliberation, he decided that he wanted to be an accountant and help the financially disadvantaged. He had always been good with numbers and enjoyed seeing the tangible results of his work. \n",
      "\n",
      "John enrolled in accounting courses and initially found it quite challenging. He had to learn multiple systems and regulations quickly, but he worked hard and eventually excelled in his studies. After a few years, John started working at an accounting firm in his city. He was eager to put his knowledge of taxes and accounting to use in a real-world setting.\n",
      "\n",
      "John loved his job, as it let him express his creativity in finding strategies to save his clients money. After a few years at the firm, he became a senior accountant and was asked to manage bigger and more challenging cases. He was now a respected figure in the financial industry, but he still remembers when he was just a recent college graduate, unsure of the direction in which his life would take him.\n",
      "### Question: Render a 3D model of a house\n",
      "### Answer: <nooutput> This type of instruction cannot be fulfilled by a GPT model.\n",
      "### Question: Evaluate this sentence for spelling and grammar mistakes\n",
      "### Input: He finnished his meal and left the resturant\n",
      "### Answer: He finished his meal and left the restaurant.\n",
      "### Question: What are the names of some famous actors that started their careers on Broadway?\n",
      "### Answer: Some famous actors that started their careers on Broadway include: \n",
      "1. Hugh Jackman \n",
      "2. Meryl Streep \n",
      "3. Denzel Washington \n",
      "4. Julia Roberts \n",
      "5. Christopher Walken \n",
      "6. Anthony Rapp \n",
      "7. Audra McDonald \n",
      "8. Nathan Lane \n",
      "9. Sarah Jessica Parker \n",
      "10. Lin-Manuel Miranda\n",
      "### Question: How did US states get their names?\n",
      "### Answer: US states get their names from a variety of sources, including Native American tribes, Spanish explorers, British colonists, and even presidents. For example, the state of Alabama was named after the Native American tribe that lived in the area, while the state of Florida gets its name from the Spanish explorer, Ponce de Leon, who explored the area in the 1500s. Other states are named after English kings (like Virginia, named after England's \"Virgin Queen,\" Queen Elizabeth I) or presidents (like Washington, named after George Washington).\n",
      "### Question: Hi, my sister and her girlfriends want me to play kickball with them. Can you explain how the game is played, so they don't take advantage of me?\n",
      "### Answer: Kickball is a game similar to baseball, but with a large rubber ball instead of a bat and a ball. The game is usually played with two teams of six players each. Each team has three bases and a home plate. The players on the kicking team line up at home plate and take turns kicking the ball. The object of the game is to score runs by running around all three bases and back to home plate without being tagged out by the defense. The team with the most runs at the end of the game is the winner.\n",
      "### Question: What is some cool music from the 1920s?\n",
      "### Answer: Some cool music from the 1920s includes jazz classics like Duke Ellington's \"Mood Indigo,\" Louis Armstrong's \"West End Blues,\" and Bessie Smith's \"Down Hearted Blues.\" Other popular tunes from the era include Fats Waller's \"Ain't Misbehavin,\" George Gershwin's \"Rhapsody in Blue,\" and Irving Berlin's \"Puttin' On the Ritz.\"\n",
      "### Question: How do I wrap a present neatly?\n",
      "### Answer: 1. Start by gathering the supplies you will need to wrap the present, such as wrapping paper, tape, scissors, and ribbon.\n",
      "\n",
      "2. Cut the wrapping paper to the size of the gift, ensuring that there is enough paper to cover the entire gift.\n",
      "\n",
      "3. Place the gift in the center of the wrapping paper, and fold the sides in, tucking the excess paper at the bottom.\n",
      "\n",
      "4. Secure the folded paper with tape.\n",
      "\n",
      "5. Cut a length of ribbon and tie it around the gift.\n",
      "\n",
      "6. Trim the excess ribbon with scissors.\n",
      "\n",
      "7. Add a decorative bow or other embellishment to the top of the gift.\n"
     ]
    }
   ],
   "source": [
    "def formatting_prompts_func(example):\n",
    "    output_texts = []\n",
    "    for i in range(len(example['instruction'])):\n",
    "        input_text = example[\"input\"][i] if 'input' in example.keys() else \"\"\n",
    "        if len(input_text) :\n",
    "            text = f\"### Question: {example['instruction'][i]}\\n### Input: {example['input'][i]}\\n### Answer: {example['output'][i]}\"\n",
    "        else:\n",
    "            text = f\"### Question: {example['instruction'][i]}\\n### Answer: {example['output'][i]}\"\n",
    "        output_texts.append(text)\n",
    "    return output_texts\n",
    "\n",
    "formatted_examples = formatting_prompts_func(train_ds[:10])\n",
    "for example in formatted_examples:\n",
    "    print(example)\n",
    "    \n",
    "formatted_examples = formatting_prompts_func(eval_ds[:5])\n",
    "for example in formatted_examples:\n",
    "    print(example)"
   ]
  },
  {
   "cell_type": "markdown",
   "metadata": {},
   "source": [
    "## Data Collator Configuration"
   ]
  },
  {
   "cell_type": "markdown",
   "metadata": {},
   "source": [
    "- Configures a data collator for the model training, specifically for completion-only language modeling, setting up a template for how responses should be formatted in the training data."
   ]
  },
  {
   "cell_type": "code",
   "execution_count": 15,
   "metadata": {},
   "outputs": [
    {
     "data": {
      "text/plain": [
       "DataCollatorForCompletionOnlyLM(tokenizer=GPT2TokenizerFast(name_or_path='distilgpt2', vocab_size=50257, model_max_length=1024, is_fast=True, padding_side='right', truncation_side='right', special_tokens={'bos_token': '<|endoftext|>', 'eos_token': '<|endoftext|>', 'unk_token': '<|endoftext|>', 'pad_token': '<|endoftext|>'}, clean_up_tokenization_spaces=True),  added_tokens_decoder={\n",
       "\t50256: AddedToken(\"<|endoftext|>\", rstrip=False, lstrip=False, single_word=False, normalized=True, special=True),\n",
       "}, mlm=False, mlm_probability=0.15, pad_to_multiple_of=None, tf_experimental_compile=False, return_tensors='pt')"
      ]
     },
     "execution_count": 15,
     "metadata": {},
     "output_type": "execute_result"
    }
   ],
   "source": [
    "# use the DataCollatorForCompletionOnlyLM to train  model on the generated prompts only\n",
    "response_template = '### Answer:'\n",
    "collator = DataCollatorForCompletionOnlyLM(response_template, tokenizer=tokenizer)\n",
    "collator"
   ]
  },
  {
   "cell_type": "code",
   "execution_count": 16,
   "metadata": {},
   "outputs": [
    {
     "data": {
      "text/plain": [
       "Dataset({\n",
       "    features: ['instruction', 'output'],\n",
       "    num_rows: 25\n",
       "})"
      ]
     },
     "execution_count": 16,
     "metadata": {},
     "output_type": "execute_result"
    }
   ],
   "source": [
    "eval_ds"
   ]
  },
  {
   "cell_type": "markdown",
   "metadata": {},
   "source": [
    "# Task 2. Model Training"
   ]
  },
  {
   "cell_type": "markdown",
   "metadata": {},
   "source": [
    "## Training Configuration"
   ]
  },
  {
   "cell_type": "markdown",
   "metadata": {},
   "source": [
    "- Defines training arguments and initializes a trainer object with the model, tokenizer, training arguments, and datasets, preparing the model for training."
   ]
  },
  {
   "cell_type": "code",
   "execution_count": 40,
   "metadata": {},
   "outputs": [
    {
     "name": "stderr",
     "output_type": "stream",
     "text": [
      "Map: 100%|██████████| 100/100 [00:00<00:00, 1249.33 examples/s]\n",
      "Map: 100%|██████████| 25/25 [00:00<00:00, 2201.87 examples/s]\n"
     ]
    }
   ],
   "source": [
    "# Adjust TrainingArguments to include evaluation settings\n",
    "training_args = TrainingArguments(\n",
    "    output_dir=\"./results\",\n",
    "    evaluation_strategy=\"epoch\",\n",
    "    per_device_train_batch_size=4,\n",
    "    per_device_eval_batch_size=4,\n",
    "    num_train_epochs=3,\n",
    "    weight_decay=0.01,\n",
    "    logging_dir='./logs',\n",
    "    logging_steps=10,\n",
    "    save_total_limit=1,  # Only keep one checkpoint\n",
    ")\n",
    "\n",
    "# Initialize the trainer\n",
    "trainer = SFTTrainer(\n",
    "    model,\n",
    "    train_dataset=train_ds,\n",
    "    eval_dataset=eval_ds,\n",
    "    tokenizer=tokenizer,\n",
    "    max_seq_length=max_seq_length,\n",
    "    data_collator=collator,\n",
    "    args=training_args,\n",
    "    formatting_func=formatting_prompts_func,\n",
    ")"
   ]
  },
  {
   "cell_type": "markdown",
   "metadata": {},
   "source": [
    "# Task 3. Model Evaluation "
   ]
  },
  {
   "cell_type": "markdown",
   "metadata": {},
   "source": [
    "## Training and Evaluation"
   ]
  },
  {
   "cell_type": "markdown",
   "metadata": {},
   "source": [
    "- Executes training and evaluation for a specified number of epochs, collecting training and evaluation losses for analysis."
   ]
  },
  {
   "cell_type": "code",
   "execution_count": 19,
   "metadata": {},
   "outputs": [
    {
     "name": "stderr",
     "output_type": "stream",
     "text": [
      "Map: 100%|██████████| 25/25 [00:00<00:00, 1080.56 examples/s]\n",
      "  0%|          | 0/75 [00:00<?, ?it/s]You're using a GPT2TokenizerFast tokenizer. Please note that with a fast tokenizer, using the `__call__` method is faster than using a method to encode the text followed by a call to the `pad` method to get a padded encoding.\n",
      " 13%|█▎        | 10/75 [00:54<04:59,  4.61s/it]"
     ]
    },
    {
     "name": "stdout",
     "output_type": "stream",
     "text": [
      "{'loss': 2.9466, 'learning_rate': 4.3333333333333334e-05, 'epoch': 0.4}\n"
     ]
    },
    {
     "name": "stderr",
     "output_type": "stream",
     "text": [
      " 27%|██▋       | 20/75 [01:46<04:55,  5.37s/it]"
     ]
    },
    {
     "name": "stdout",
     "output_type": "stream",
     "text": [
      "{'loss': 2.5865, 'learning_rate': 3.6666666666666666e-05, 'epoch': 0.8}\n"
     ]
    },
    {
     "name": "stderr",
     "output_type": "stream",
     "text": [
      "                                               \n",
      " 33%|███▎      | 25/75 [02:28<04:27,  5.35s/it]"
     ]
    },
    {
     "name": "stdout",
     "output_type": "stream",
     "text": [
      "{'eval_loss': 2.4634296894073486, 'eval_runtime': 12.9353, 'eval_samples_per_second': 1.933, 'eval_steps_per_second': 0.541, 'epoch': 1.0}\n"
     ]
    },
    {
     "name": "stderr",
     "output_type": "stream",
     "text": [
      " 40%|████      | 30/75 [02:53<04:17,  5.71s/it]"
     ]
    },
    {
     "name": "stdout",
     "output_type": "stream",
     "text": [
      "{'loss': 2.5982, 'learning_rate': 3e-05, 'epoch': 1.2}\n"
     ]
    },
    {
     "name": "stderr",
     "output_type": "stream",
     "text": [
      " 53%|█████▎    | 40/75 [03:42<02:47,  4.80s/it]"
     ]
    },
    {
     "name": "stdout",
     "output_type": "stream",
     "text": [
      "{'loss': 2.5137, 'learning_rate': 2.3333333333333336e-05, 'epoch': 1.6}\n"
     ]
    },
    {
     "name": "stderr",
     "output_type": "stream",
     "text": [
      " 67%|██████▋   | 50/75 [04:35<01:55,  4.62s/it]"
     ]
    },
    {
     "name": "stdout",
     "output_type": "stream",
     "text": [
      "{'loss': 2.3363, 'learning_rate': 1.6666666666666667e-05, 'epoch': 2.0}\n"
     ]
    },
    {
     "name": "stderr",
     "output_type": "stream",
     "text": [
      "                                               \n",
      " 67%|██████▋   | 50/75 [04:48<01:55,  4.62s/it]"
     ]
    },
    {
     "name": "stdout",
     "output_type": "stream",
     "text": [
      "{'eval_loss': 2.4569404125213623, 'eval_runtime': 12.1468, 'eval_samples_per_second': 2.058, 'eval_steps_per_second': 0.576, 'epoch': 2.0}\n"
     ]
    },
    {
     "name": "stderr",
     "output_type": "stream",
     "text": [
      " 80%|████████  | 60/75 [05:43<01:27,  5.84s/it]"
     ]
    },
    {
     "name": "stdout",
     "output_type": "stream",
     "text": [
      "{'loss': 2.2989, 'learning_rate': 1e-05, 'epoch': 2.4}\n"
     ]
    },
    {
     "name": "stderr",
     "output_type": "stream",
     "text": [
      " 93%|█████████▎| 70/75 [06:28<00:22,  4.41s/it]"
     ]
    },
    {
     "name": "stdout",
     "output_type": "stream",
     "text": [
      "{'loss': 2.3268, 'learning_rate': 3.3333333333333333e-06, 'epoch': 2.8}\n"
     ]
    },
    {
     "name": "stderr",
     "output_type": "stream",
     "text": [
      "                                               \n",
      "100%|██████████| 75/75 [07:09<00:00,  5.72s/it]\n"
     ]
    },
    {
     "name": "stdout",
     "output_type": "stream",
     "text": [
      "{'eval_loss': 2.463404417037964, 'eval_runtime': 11.9394, 'eval_samples_per_second': 2.094, 'eval_steps_per_second': 0.586, 'epoch': 3.0}\n",
      "{'train_runtime': 429.347, 'train_samples_per_second': 0.699, 'train_steps_per_second': 0.175, 'train_loss': 2.4947877248128254, 'epoch': 3.0}\n"
     ]
    },
    {
     "name": "stderr",
     "output_type": "stream",
     "text": [
      "100%|██████████| 7/7 [00:10<00:00,  1.53s/it]\n",
      " 13%|█▎        | 10/75 [00:39<04:22,  4.04s/it]"
     ]
    },
    {
     "name": "stdout",
     "output_type": "stream",
     "text": [
      "{'loss': 2.1474, 'learning_rate': 4.3333333333333334e-05, 'epoch': 0.4}\n"
     ]
    },
    {
     "name": "stderr",
     "output_type": "stream",
     "text": [
      " 27%|██▋       | 20/75 [01:33<04:56,  5.39s/it]"
     ]
    },
    {
     "name": "stdout",
     "output_type": "stream",
     "text": [
      "{'loss': 2.2468, 'learning_rate': 3.6666666666666666e-05, 'epoch': 0.8}\n"
     ]
    },
    {
     "name": "stderr",
     "output_type": "stream",
     "text": [
      " 33%|███▎      | 25/75 [01:59<03:57,  4.74s/it]\n",
      " 33%|███▎      | 25/75 [02:11<03:57,  4.74s/it]"
     ]
    },
    {
     "name": "stdout",
     "output_type": "stream",
     "text": [
      "{'eval_loss': 2.5071544647216797, 'eval_runtime': 11.7924, 'eval_samples_per_second': 2.12, 'eval_steps_per_second': 0.594, 'epoch': 1.0}\n"
     ]
    },
    {
     "name": "stderr",
     "output_type": "stream",
     "text": [
      " 40%|████      | 30/75 [02:37<04:33,  6.08s/it]"
     ]
    },
    {
     "name": "stdout",
     "output_type": "stream",
     "text": [
      "{'loss': 1.9034, 'learning_rate': 3e-05, 'epoch': 1.2}\n"
     ]
    },
    {
     "name": "stderr",
     "output_type": "stream",
     "text": [
      " 53%|█████▎    | 40/75 [03:15<02:10,  3.74s/it]"
     ]
    },
    {
     "name": "stdout",
     "output_type": "stream",
     "text": [
      "{'loss': 2.033, 'learning_rate': 2.3333333333333336e-05, 'epoch': 1.6}\n"
     ]
    },
    {
     "name": "stderr",
     "output_type": "stream",
     "text": [
      " 67%|██████▋   | 50/75 [04:08<01:48,  4.34s/it]"
     ]
    },
    {
     "name": "stdout",
     "output_type": "stream",
     "text": [
      "{'loss': 1.9018, 'learning_rate': 1.6666666666666667e-05, 'epoch': 2.0}\n"
     ]
    },
    {
     "name": "stderr",
     "output_type": "stream",
     "text": [
      "\n",
      " 67%|██████▋   | 50/75 [04:20<01:48,  4.34s/it]"
     ]
    },
    {
     "name": "stdout",
     "output_type": "stream",
     "text": [
      "{'eval_loss': 2.561584234237671, 'eval_runtime': 11.9079, 'eval_samples_per_second': 2.099, 'eval_steps_per_second': 0.588, 'epoch': 2.0}\n"
     ]
    },
    {
     "name": "stderr",
     "output_type": "stream",
     "text": [
      " 80%|████████  | 60/75 [05:12<01:23,  5.57s/it]"
     ]
    },
    {
     "name": "stdout",
     "output_type": "stream",
     "text": [
      "{'loss': 1.938, 'learning_rate': 1e-05, 'epoch': 2.4}\n"
     ]
    },
    {
     "name": "stderr",
     "output_type": "stream",
     "text": [
      " 93%|█████████▎| 70/75 [05:56<00:22,  4.44s/it]"
     ]
    },
    {
     "name": "stdout",
     "output_type": "stream",
     "text": [
      "{'loss': 1.7739, 'learning_rate': 3.3333333333333333e-06, 'epoch': 2.8}\n"
     ]
    },
    {
     "name": "stderr",
     "output_type": "stream",
     "text": [
      "100%|██████████| 75/75 [06:21<00:00,  4.41s/it]\n",
      "100%|██████████| 75/75 [06:33<00:00,  5.24s/it]\n"
     ]
    },
    {
     "name": "stdout",
     "output_type": "stream",
     "text": [
      "{'eval_loss': 2.5829665660858154, 'eval_runtime': 12.0414, 'eval_samples_per_second': 2.076, 'eval_steps_per_second': 0.581, 'epoch': 3.0}\n",
      "{'train_runtime': 393.0662, 'train_samples_per_second': 0.763, 'train_steps_per_second': 0.191, 'train_loss': 1.9716752243041993, 'epoch': 3.0}\n"
     ]
    },
    {
     "name": "stderr",
     "output_type": "stream",
     "text": [
      "100%|██████████| 7/7 [00:10<00:00,  1.53s/it]\n",
      " 13%|█▎        | 10/75 [00:40<05:02,  4.65s/it]"
     ]
    },
    {
     "name": "stdout",
     "output_type": "stream",
     "text": [
      "{'loss': 1.6366, 'learning_rate': 4.3333333333333334e-05, 'epoch': 0.4}\n"
     ]
    },
    {
     "name": "stderr",
     "output_type": "stream",
     "text": [
      " 27%|██▋       | 20/75 [01:37<05:48,  6.34s/it]"
     ]
    },
    {
     "name": "stdout",
     "output_type": "stream",
     "text": [
      "{'loss': 1.6572, 'learning_rate': 3.6666666666666666e-05, 'epoch': 0.8}\n"
     ]
    },
    {
     "name": "stderr",
     "output_type": "stream",
     "text": [
      " 33%|███▎      | 25/75 [02:01<04:03,  4.86s/it]\n",
      " 33%|███▎      | 25/75 [02:13<04:03,  4.86s/it]"
     ]
    },
    {
     "name": "stdout",
     "output_type": "stream",
     "text": [
      "{'eval_loss': 2.6444549560546875, 'eval_runtime': 11.9195, 'eval_samples_per_second': 2.097, 'eval_steps_per_second': 0.587, 'epoch': 1.0}\n"
     ]
    },
    {
     "name": "stderr",
     "output_type": "stream",
     "text": [
      " 40%|████      | 30/75 [02:37<04:28,  5.96s/it]"
     ]
    },
    {
     "name": "stdout",
     "output_type": "stream",
     "text": [
      "{'loss': 1.5978, 'learning_rate': 3e-05, 'epoch': 1.2}\n"
     ]
    },
    {
     "name": "stderr",
     "output_type": "stream",
     "text": [
      " 53%|█████▎    | 40/75 [03:24<02:20,  4.02s/it]"
     ]
    },
    {
     "name": "stdout",
     "output_type": "stream",
     "text": [
      "{'loss': 1.5236, 'learning_rate': 2.3333333333333336e-05, 'epoch': 1.6}\n"
     ]
    },
    {
     "name": "stderr",
     "output_type": "stream",
     "text": [
      " 67%|██████▋   | 50/75 [04:12<01:54,  4.59s/it]"
     ]
    },
    {
     "name": "stdout",
     "output_type": "stream",
     "text": [
      "{'loss': 1.4916, 'learning_rate': 1.6666666666666667e-05, 'epoch': 2.0}\n"
     ]
    },
    {
     "name": "stderr",
     "output_type": "stream",
     "text": [
      "                                               \n",
      " 67%|██████▋   | 50/75 [04:24<01:54,  4.59s/it]"
     ]
    },
    {
     "name": "stdout",
     "output_type": "stream",
     "text": [
      "{'eval_loss': 2.762598991394043, 'eval_runtime': 11.9736, 'eval_samples_per_second': 2.088, 'eval_steps_per_second': 0.585, 'epoch': 2.0}\n"
     ]
    },
    {
     "name": "stderr",
     "output_type": "stream",
     "text": [
      " 80%|████████  | 60/75 [05:16<01:17,  5.20s/it]"
     ]
    },
    {
     "name": "stdout",
     "output_type": "stream",
     "text": [
      "{'loss': 1.4911, 'learning_rate': 1e-05, 'epoch': 2.4}\n"
     ]
    },
    {
     "name": "stderr",
     "output_type": "stream",
     "text": [
      " 93%|█████████▎| 70/75 [06:01<00:25,  5.01s/it]"
     ]
    },
    {
     "name": "stdout",
     "output_type": "stream",
     "text": [
      "{'loss': 1.4912, 'learning_rate': 3.3333333333333333e-06, 'epoch': 2.8}\n"
     ]
    },
    {
     "name": "stderr",
     "output_type": "stream",
     "text": [
      "100%|██████████| 75/75 [06:30<00:00,  5.13s/it]\n",
      "100%|██████████| 75/75 [06:41<00:00,  5.36s/it]\n"
     ]
    },
    {
     "name": "stdout",
     "output_type": "stream",
     "text": [
      "{'eval_loss': 2.7701473236083984, 'eval_runtime': 11.7829, 'eval_samples_per_second': 2.122, 'eval_steps_per_second': 0.594, 'epoch': 3.0}\n",
      "{'train_runtime': 401.9477, 'train_samples_per_second': 0.746, 'train_steps_per_second': 0.187, 'train_loss': 1.5435860443115235, 'epoch': 3.0}\n"
     ]
    },
    {
     "name": "stderr",
     "output_type": "stream",
     "text": [
      "100%|██████████| 7/7 [00:10<00:00,  1.53s/it]\n"
     ]
    }
   ],
   "source": [
    "# Train the model and save the loss values\n",
    "train_loss_values = []\n",
    "eval_loss_values = []\n",
    "for epoch in range(training_args.num_train_epochs):\n",
    "    # Train one epoch\n",
    "    trainer.train()\n",
    "    \n",
    "    # Evaluate\n",
    "    eval_output = trainer.evaluate()\n",
    "    \n",
    "    # Save train and eval losses\n",
    "    train_loss_values.extend([log.get('train_loss') for log in trainer.state.log_history])\n",
    "    eval_loss_values.append(eval_output['eval_loss'])"
   ]
  },
  {
   "cell_type": "markdown",
   "metadata": {},
   "source": [
    "## Loss Plotting"
   ]
  },
  {
   "cell_type": "markdown",
   "metadata": {},
   "source": [
    "- This section includes code for plotting the training and evaluation loss over epochs, providing a visual analysis of the model's learning progress."
   ]
  },
  {
   "cell_type": "code",
   "execution_count": 30,
   "metadata": {},
   "outputs": [
    {
     "data": {
      "image/png": "[encoded data removed]",
      "text/plain": [
       "<Figure size 640x480 with 1 Axes>"
      ]
     },
     "metadata": {},
     "output_type": "display_data"
    }
   ],
   "source": [
    "# Filter out None values from train_loss_values and eval_loss_values\n",
    "train_loss_values = [loss for loss in train_loss_values if loss is not None]\n",
    "eval_loss_values = [loss for loss in eval_loss_values if loss is not None]\n",
    "\n",
    "# Check if train_loss_values and eval_loss_values are not empty\n",
    "if train_loss_values and eval_loss_values:\n",
    "    # Plot training and evaluation loss\n",
    "    plt.plot(np.arange(1, len(train_loss_values) + 1), train_loss_values, label='Training Loss')\n",
    "    plt.plot(np.arange(1, len(eval_loss_values) + 1), eval_loss_values, label='Evaluation Loss')\n",
    "    plt.xlabel('Epoch')\n",
    "    plt.ylabel('Loss')\n",
    "    plt.title('Training and Evaluation Loss')\n",
    "    plt.legend()\n",
    "    plt.savefig('loss_plot.png')\n",
    "    plt.show()\n",
    "else:\n",
    "    print(\"No valid loss values to plot.\")\n"
   ]
  },
  {
   "cell_type": "code",
   "execution_count": 44,
   "metadata": {},
   "outputs": [
    {
     "data": {
      "text/plain": [
       "([2.4947877248128254, 1.9716752243041993, 1.5435860443115235],\n",
       " [2.463404417037964, 2.5829665660858154, 2.7701473236083984])"
      ]
     },
     "execution_count": 44,
     "metadata": {},
     "output_type": "execute_result"
    }
   ],
   "source": [
    "# Filter out None values from train_loss_values and eval_loss_values\n",
    "train_loss_values , eval_loss_values"
   ]
  },
  {
   "cell_type": "markdown",
   "metadata": {},
   "source": [
    "**Training Loss per Epoch:**\n",
    "- Epoch 1: 2.4948\n",
    "- Epoch 2: 1.9717\n",
    "- Epoch 3: 1.5436\n",
    "\n",
    "**Validation Loss per Epoch:**\n",
    "- Epoch 1: 2.4634\n",
    "- Epoch 2: 2.5829\n",
    "- Epoch 3: 2.7701\n",
    "\n",
    "**Analysis:**\n",
    "- The **training loss** shows a **consistent decrease**, indicating effective learning and optimization by the model.\n",
    "- The **validation loss** initially drops but then **increases**, suggesting the model might be **overfitting**. While the model is improving on the training data, its performance on unseen data (validation) worsens.\n",
    "\n",
    "**Conclusion:**\n",
    "- The training trends are positive, but the rise in validation loss points to a need for strategies to improve generalization, such as **early stopping**, **regularization**, or **model adjustments** to prevent overfitting.\n"
   ]
  },
  {
   "cell_type": "markdown",
   "metadata": {},
   "source": [
    "## Performance Evaluation"
   ]
  },
  {
   "cell_type": "markdown",
   "metadata": {},
   "source": [
    "- Evaluates the performance of the model by generating responses for the evaluation dataset and calculating the BLEU score for each response against the gold label, averaging the scores to assess the overall performance."
   ]
  },
  {
   "cell_type": "code",
   "execution_count": 31,
   "metadata": {},
   "outputs": [
    {
     "name": "stdout",
     "output_type": "stream",
     "text": [
      "Average BLEU Score: 0.006136807820852075\n"
     ]
    }
   ],
   "source": [
    "\n",
    "# Initialize lists to store generated responses and gold labels\n",
    "generated_responses = []\n",
    "gold_labels = []\n",
    "\n",
    "# Generate responses for each example in the eval dataset\n",
    "for example in eval_ds:\n",
    "    # Generate response using the trained model\n",
    "    input_prompt = example['instruction']\n",
    "    input_ids = tokenizer(input_prompt, return_tensors='pt')['input_ids'].to(device)\n",
    "    generated_output = model.generate(input_ids, max_length=100, num_return_sequences=1)\n",
    "    generated_response = tokenizer.decode(generated_output[0], skip_special_tokens=True)\n",
    "    generated_responses.append(generated_response)\n",
    "    \n",
    "    # Get gold label\n",
    "    gold_label = example['output']\n",
    "    gold_labels.append(gold_label)\n",
    "\n",
    "\n",
    "\n",
    "bleu_scores = []\n",
    "for generated_response, gold_label in zip(generated_responses, gold_labels):\n",
    "    bleu_score = sentence_bleu([gold_label.split()], generated_response.split())\n",
    "    bleu_scores.append(bleu_score)\n",
    "\n",
    "# Compute average BLEU score\n",
    "average_bleu_score = sum(bleu_scores) / len(bleu_scores)\n",
    "print(\"Average BLEU Score:\", average_bleu_score)\n"
   ]
  },
  {
   "cell_type": "markdown",
   "metadata": {},
   "source": [
    "**Average BLEU Score on `eval_ds`:**\n",
    "- **Score**: 0.0061\n",
    "\n",
    "**Interpretation:**\n",
    "- The **BLEU score** quantifies the similarity between the machine-generated text and reference (human) text, with a range from 0 to 1. Higher scores indicate better alignment with the reference text.\n",
    "- An **average BLEU score of 0.0061** is quite low, suggesting that the generated text significantly differs from the expected human-written reference texts in the evaluation dataset (`eval_ds`).\n",
    "\n",
    "**Implications:**\n",
    "- This low score could indicate **challenges** the model faces in capturing the nuances of the language or the specifics of the task.\n",
    "- It highlights the need for further **model refinement** or **training data adjustment** to improve performance.\n",
    "\n",
    "**Next Steps:**\n",
    "- Investigating the **model's learning process**, increasing **data quantity and quality**, and Investigating the **evaluation setup** could provide insights into improving this score.\n",
    "- Exploring **alternative models**, **hyperparameter tuning**, or **data augmentation** strategies might also enhance the model's ability to generate more accurate and human-like text.\n"
   ]
  },
  {
   "cell_type": "markdown",
   "metadata": {},
   "source": [
    "## Save and Load Model"
   ]
  },
  {
   "cell_type": "markdown",
   "metadata": {},
   "source": [
    "- Saves the trained model and tokenizer to disk and demonstrates how to load them back into the script, preparing them for inference."
   ]
  },
  {
   "cell_type": "code",
   "execution_count": 41,
   "metadata": {},
   "outputs": [
    {
     "data": {
      "text/plain": [
       "('./trained_model/tokenizer_config.json',\n",
       " './trained_model/special_tokens_map.json',\n",
       " './trained_model/vocab.json',\n",
       " './trained_model/merges.txt',\n",
       " './trained_model/added_tokens.json',\n",
       " './trained_model/tokenizer.json')"
      ]
     },
     "execution_count": 41,
     "metadata": {},
     "output_type": "execute_result"
    }
   ],
   "source": [
    "# Save the model and tokenizer\n",
    "model.save_pretrained('./trained_model')\n",
    "tokenizer.save_pretrained('./trained_model')"
   ]
  },
  {
   "cell_type": "code",
   "execution_count": 33,
   "metadata": {},
   "outputs": [
    {
     "data": {
      "text/plain": [
       "GPT2LMHeadModel(\n",
       "  (transformer): GPT2Model(\n",
       "    (wte): Embedding(50257, 768)\n",
       "    (wpe): Embedding(1024, 768)\n",
       "    (drop): Dropout(p=0.1, inplace=False)\n",
       "    (h): ModuleList(\n",
       "      (0-5): 6 x GPT2Block(\n",
       "        (ln_1): LayerNorm((768,), eps=1e-05, elementwise_affine=True)\n",
       "        (attn): GPT2Attention(\n",
       "          (c_attn): Conv1D()\n",
       "          (c_proj): Conv1D()\n",
       "          (attn_dropout): Dropout(p=0.1, inplace=False)\n",
       "          (resid_dropout): Dropout(p=0.1, inplace=False)\n",
       "        )\n",
       "        (ln_2): LayerNorm((768,), eps=1e-05, elementwise_affine=True)\n",
       "        (mlp): GPT2MLP(\n",
       "          (c_fc): Conv1D()\n",
       "          (c_proj): Conv1D()\n",
       "          (act): NewGELUActivation()\n",
       "          (dropout): Dropout(p=0.1, inplace=False)\n",
       "        )\n",
       "      )\n",
       "    )\n",
       "    (ln_f): LayerNorm((768,), eps=1e-05, elementwise_affine=True)\n",
       "  )\n",
       "  (lm_head): Linear(in_features=768, out_features=50257, bias=False)\n",
       ")"
      ]
     },
     "execution_count": 33,
     "metadata": {},
     "output_type": "execute_result"
    }
   ],
   "source": [
    "# Load the trained model and tokenizer\n",
    "model_path = './trained_model'  # Adjust if your model is saved elsewhere\n",
    "model = AutoModelForCausalLM.from_pretrained(model_path)\n",
    "tokenizer = AutoTokenizer.from_pretrained(model_path)\n",
    "if model.config.pad_token_id is None:\n",
    "    model.config.pad_token_id = tokenizer.eos_token_id\n",
    "# Ensure the model is in evaluation mode\n",
    "model.eval()"
   ]
  },
  {
   "cell_type": "markdown",
   "metadata": {},
   "source": [
    "## Inference and Response Generation"
   ]
  },
  {
   "cell_type": "markdown",
   "metadata": {},
   "source": [
    "- Defines a function for generating responses using the trained model and demonstrates its usage with an example question and context. It showcases how the model can be applied to generate answers to new queries."
   ]
  },
  {
   "cell_type": "code",
   "execution_count": 37,
   "metadata": {},
   "outputs": [],
   "source": [
    "def generate_response(question, context=None):\n",
    "    \"\"\"\n",
    "    Generate an answer based on a given question and optional context.\n",
    "\n",
    "    Parameters:\n",
    "    - question (str): The question or instruction.\n",
    "    - context (str, optional): Additional context to provide background for the answer.\n",
    "\n",
    "    Returns:\n",
    "    - str: The generated answer.\n",
    "    \"\"\"\n",
    "    # Adjust the prompt format to match the training format\n",
    "    formatted_prompt = f\"### Question: {question}\\n### Answer:\"\n",
    "    if context:\n",
    "        formatted_prompt = f\"{context}\\n{formatted_prompt}\"\n",
    "\n",
    "    # Encode the prompt to tensor\n",
    "    input_ids = tokenizer.encode(formatted_prompt, return_tensors='pt').to(device)\n",
    "\n",
    "    # Generate an answer\n",
    "    with torch.no_grad():  # No need to track gradients\n",
    "        output_ids = model.generate(input_ids, max_length=200, num_return_sequences=1, temperature=0.1, top_p=0.9)\n",
    "\n",
    "    # Decode and return the generated text\n",
    "    generated_text = tokenizer.decode(output_ids[0], skip_special_tokens=True)\n",
    "    \n",
    "    # Extracting the generated answer (post-processing might be needed depending on the model's output)\n",
    "    answer_start = generated_text.find(\"### Answer:\") + len(\"### Answer:\")\n",
    "    generated_answer = generated_text[answer_start:].strip()\n",
    "\n",
    "    return generated_answer\n"
   ]
  },
  {
   "cell_type": "code",
   "execution_count": 42,
   "metadata": {},
   "outputs": [
    {
     "name": "stdout",
     "output_type": "stream",
     "text": [
      "Question :\n",
      " What is a polite way to respond to a customer asking for a refund?\n",
      "Context \n",
      " The customer purchased a vacuum cleaner that stopped working after one week.\n",
      "Generated Answer:\n",
      " A polite way to respond to a customer asking for a refund is by contacting the customer service line at 1-800-8255. The customer will be directed to the customer service line at 1-800-8255. The customer will also be asked to provide a written response to the customer. The customer will also be asked to provide a written response to the customer. The customer will also be asked to provide a written response to the customer. The customer will also be asked to provide a written response to the customer. The customer will also be asked to provide a written response to the customer. The customer will also be asked to provide a written response to the customer. The customer will also be asked to provide a written response to the customer. The customer will also be asked to provide a written response to the customer. The customer will also be asked to provide a written response to the customer. The customer will also be asked to provide a written response to the customer. The customer will also be asked to provide a written response to the customer. The customer will also be asked to provide a written response to the customer. The customer will also be asked to provide a written response to the customer. The customer will also be asked to provide a written response to the customer. The customer will also be asked to provide a written response to the customer. The customer will also be asked to provide a written response to the customer. The customer will also be asked to provide a written response to the customer. The customer will also be asked to provide a written response to the customer. The customer will also be asked to provide a written response to the customer. The customer will also be asked to provide a written response to the customer. The customer will also be asked to provide a written response to the customer. The customer will also be asked to provide a written response to the customer. The customer will also be asked to provide a written response to the customer. The customer will also be asked to provide a written response to the customer. The customer will also be asked to provide a written response to the customer. The customer will also be asked to provide a written response to the customer. The customer will also be asked to provide a written response to the customer. The customer will also be asked to provide a written response to the customer. The customer will also be asked to provide a written response\n"
     ]
    }
   ],
   "source": [
    "# Example usage\n",
    "question = \"What is a polite way to respond to a customer asking for a refund?\"\n",
    "context = \"The customer purchased a vacuum cleaner that stopped working after one week.\"  # Can be None if not applicable\n",
    "answer = generate_response(question, context)\n",
    "print(\"Question :\\n\",question)\n",
    "print(\"Context \\n\",context)\n",
    "print(\"Generated Answer:\\n\", answer)"
   ]
  },
  {
   "cell_type": "code",
   "execution_count": 39,
   "metadata": {},
   "outputs": [
    {
     "name": "stdout",
     "output_type": "stream",
     "text": [
      "Instruction:\n",
      " How do you become an author?\n",
      "Gold Label:\n",
      " 1. Develop your writing skills. Read books, take writing classes, and practice your skills regularly.\n",
      "2. Generate ideas for stories, poems, or other works. Think about topics you are passionate about and consider how to use them in your writing.\n",
      "3. Outline your story or work, then begin writing. Use the outline as a guide and flesh out the details as you go.\n",
      "4. Edit your work. Read through your work and make corrections and edits to improve it.\n",
      "5. Seek feedback from others. Ask family, friends, or writing peers to review your work and provide feedback.\n",
      "6. Publish your work. Consider submitting your work to literary agents or publishers, or self-publish your work online.\n",
      "Generated Response:\n",
      " I am an avid reader of science fiction and fantasy. I have read a lot of books, read a lot of books, and read books all over the world. I also like to read books that are both science fiction and fantasy. I also like to read books that are both science fiction and fantasy. I also like to read books that are both science fiction and fantasy. I also like to read books that are both science fiction and fantasy. I also like to read books that are both science fiction and fantasy. I also like to read books that are both science fiction and fantasy. I also like to read books that are both science fiction and fantasy. I also like to read books that are both science fiction and fantasy. I also like to read books that are both science fiction and fantasy. I also like to read books that are both science fiction and fantasy. I also like to read books that are both science fiction and fantasy. I also like to read books that are both science fiction and fantasy. I also like to read books that are both science fiction and fantasy. I also like to read books that are both science fiction and fantasy. I also like to read books that are both science fiction and fantasy. I also like to read books that are both science fiction and fantasy. I also like to read books that are both science fiction and fantasy. I also like to read books that are both science fiction and fantasy. I also like to read books that are both science fiction and fantasy. I also like to read books that are both science fiction and fantasy. I also like to read books that are both science fiction and fantasy. I also like to read books that are both science fiction and fantasy. I also like to read books that are both science fiction and fantasy. I also like to read books that are both science fiction and fantasy. I also like to read books that are both science fiction and fantasy. I also like to read books that are both science fiction and fantasy. I also like to read books that are both science fiction and fantasy. I also like to read books that are both science fiction and fantasy. I also like to read books that are both science fiction and fantasy. I also like to read books that are both science fiction and fantasy. I also like to read books that are both science fiction and fantasy. I also like to read books that are both science fiction and fantasy. I also like to read books that are both science fiction and fantasy. I also like\n"
     ]
    }
   ],
   "source": [
    "import random\n",
    "\n",
    "# Select a random example from eval_ds\n",
    "random_example = random.choice(eval_ds)\n",
    "\n",
    "# Get the instruction from the random example\n",
    "instruction = random_example['instruction']\n",
    "\n",
    "# Generate a response using the trained model\n",
    "generated_response = generate_response(instruction)\n",
    "\n",
    "# Print the instruction, gold label, and generated response\n",
    "print(\"Instruction:\\n\", instruction)\n",
    "print(\"Gold Label:\\n\", random_example['output'])\n",
    "print(\"Generated Response:\\n\", generated_response)\n"
   ]
  },
  {
   "cell_type": "code",
   "execution_count": 36,
   "metadata": {},
   "outputs": [
    {
     "name": "stdout",
     "output_type": "stream",
     "text": [
      "Question :\n",
      " What is a polite way to respond to a customer asking for a refund?\n",
      "Context \n",
      " The customer purchased a vacuum cleaner that stopped working after one week.\n",
      "Generated Answer:\n",
      " A polite way to respond to a customer asking for a refund is by contacting the customer service line at 1-800-8255. The customer will be directed to the customer service line at 1-800-8255. The customer will also be asked to provide a written response to the customer. The customer will also be asked to provide a written response to the customer. The customer will also be asked to provide a written response to the customer. The customer will also be asked to provide a written response to the customer. The customer will also be asked to provide a written response to the customer. The customer will also be asked to provide a written response to the customer. The customer will also be asked to provide a written response to the customer. The customer will also be asked to provide a written response to the customer\n"
     ]
    }
   ],
   "source": []
  },
  {
   "cell_type": "code",
   "execution_count": null,
   "metadata": {},
   "outputs": [],
   "source": []
  }
 ],
 "metadata": {
  "kernelspec": {
   "display_name": "nlu",
   "language": "python",
   "name": "python3"
  },
  "language_info": {
   "codemirror_mode": {
    "name": "ipython",
    "version": 3
   },
   "file_extension": ".py",
   "mimetype": "text/x-python",
   "name": "python",
   "nbconvert_exporter": "python",
   "pygments_lexer": "ipython3",
   "version": "3.11.4"
  }
 },
 "nbformat": 4,
 "nbformat_minor": 2
}
